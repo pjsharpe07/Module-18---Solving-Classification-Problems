{
 "cells": [
  {
   "cell_type": "code",
   "execution_count": 93,
   "metadata": {},
   "outputs": [],
   "source": [
    "%matplotlib inline\n",
    "import numpy as np\n",
    "import pandas as pd\n",
    "import scipy\n",
    "import sklearn\n",
    "import matplotlib.pyplot as plt\n",
    "import seaborn as sns"
   ]
  },
  {
   "cell_type": "code",
   "execution_count": 94,
   "metadata": {},
   "outputs": [
    {
     "data": {
      "text/html": [
       "<div>\n",
       "<style scoped>\n",
       "    .dataframe tbody tr th:only-of-type {\n",
       "        vertical-align: middle;\n",
       "    }\n",
       "\n",
       "    .dataframe tbody tr th {\n",
       "        vertical-align: top;\n",
       "    }\n",
       "\n",
       "    .dataframe thead th {\n",
       "        text-align: right;\n",
       "    }\n",
       "</style>\n",
       "<table border=\"1\" class=\"dataframe\">\n",
       "  <thead>\n",
       "    <tr style=\"text-align: right;\">\n",
       "      <th></th>\n",
       "      <th>text</th>\n",
       "      <th>sentiment</th>\n",
       "    </tr>\n",
       "  </thead>\n",
       "  <tbody>\n",
       "    <tr>\n",
       "      <th>0</th>\n",
       "      <td>So there is no way for me to plug it in here i...</td>\n",
       "      <td>0</td>\n",
       "    </tr>\n",
       "    <tr>\n",
       "      <th>1</th>\n",
       "      <td>Good case, Excellent value.</td>\n",
       "      <td>1</td>\n",
       "    </tr>\n",
       "    <tr>\n",
       "      <th>2</th>\n",
       "      <td>Great for the jawbone.</td>\n",
       "      <td>1</td>\n",
       "    </tr>\n",
       "    <tr>\n",
       "      <th>3</th>\n",
       "      <td>Tied to charger for conversations lasting more...</td>\n",
       "      <td>0</td>\n",
       "    </tr>\n",
       "    <tr>\n",
       "      <th>4</th>\n",
       "      <td>The mic is great.</td>\n",
       "      <td>1</td>\n",
       "    </tr>\n",
       "  </tbody>\n",
       "</table>\n",
       "</div>"
      ],
      "text/plain": [
       "                                                text  sentiment\n",
       "0  So there is no way for me to plug it in here i...          0\n",
       "1                        Good case, Excellent value.          1\n",
       "2                             Great for the jawbone.          1\n",
       "3  Tied to charger for conversations lasting more...          0\n",
       "4                                  The mic is great.          1"
      ]
     },
     "execution_count": 94,
     "metadata": {},
     "output_type": "execute_result"
    }
   ],
   "source": [
    "#load the dataset\n",
    "df = pd.read_csv('amazon_cells_labelled.txt', sep=\"\\t\", header=None)\n",
    "df.columns = ['text', 'sentiment']\n",
    "\n",
    "df.head()"
   ]
  },
  {
   "cell_type": "code",
   "execution_count": 95,
   "metadata": {},
   "outputs": [],
   "source": [
    "#df of positive movies\n",
    "positive_df = df.loc[df.sentiment == 1].reset_index()\n",
    "#create a dictionary of positive words\n",
    "words = {}\n",
    "\n",
    "for i in range(len(positive_df.text)):\n",
    "    sentence = positive_df.text[i].split(' ')\n",
    "    for j in range(len(sentence)):\n",
    "        if (sentence[j].lower() in words):\n",
    "            words[sentence[j].lower()] += 1\n",
    "        else:\n",
    "            words.update({sentence[j].lower() : 1})"
   ]
  },
  {
   "cell_type": "code",
   "execution_count": 96,
   "metadata": {},
   "outputs": [
    {
     "name": "stdout",
     "output_type": "stream",
     "text": [
      "good : 3.68\n",
      "excellent : 1.39\n",
      "great : 4.31\n",
      "for : 4.51\n",
      "the : 16.46\n",
      "is : 9.65\n",
      "great. : 1.04\n",
      "you : 1.39\n",
      "are : 1.46\n",
      "have : 2.57\n",
      "and : 13.06\n",
      "sound : 1.53\n",
      "quality : 1.46\n",
      "was : 2.5\n",
      "very : 4.79\n",
      "when : 0.49\n",
      "from : 1.11\n",
      "battery : 1.39\n",
      "to : 5.9\n",
      "highly : 0.56\n",
      "recommend : 1.25\n",
      "any : 1.04\n",
      "one : 1.53\n",
      "has : 1.67\n",
      "a : 7.22\n",
      "phone. : 1.39\n",
      "so : 1.81\n",
      "works : 2.99\n",
      "i : 10.49\n",
      "bought : 0.56\n",
      "this : 6.94\n",
      "use : 0.9\n",
      "with : 4.31\n",
      "my : 5.0\n",
      "new : 0.69\n",
      "without : 0.49\n",
      "phone : 3.96\n",
      "i've : 1.32\n",
      "can : 0.76\n",
      "that : 2.08\n",
      "it's : 1.11\n",
      "best : 1.32\n",
      "product : 1.04\n",
      "like : 1.25\n",
      "car : 0.56\n",
      "as : 1.39\n",
      "well : 1.18\n",
      "of : 3.4\n",
      "it : 7.5\n",
      "up : 0.76\n",
      "well. : 0.83\n",
      "case : 0.49\n",
      "camera : 0.49\n",
      "nice : 1.32\n",
      "clear : 0.49\n",
      "quality. : 0.56\n",
      "headset : 1.67\n",
      "bluetooth : 0.69\n",
      "all : 1.18\n",
      "does : 0.49\n",
      "not : 0.97\n",
      "just : 0.83\n",
      "pretty : 0.56\n",
      "had : 1.18\n",
      "it. : 0.9\n",
      "love : 1.39\n",
      "about : 0.49\n",
      "price : 0.76\n",
      "even : 0.76\n",
      "been : 0.83\n",
      "happy : 0.9\n",
      "no : 0.83\n",
      "on : 2.99\n",
      "really : 1.04\n",
      "these : 0.83\n",
      "- : 0.97\n",
      "they : 0.62\n",
      "in : 2.36\n",
      "comfortable : 0.76\n",
      "than : 1.32\n",
      "because : 0.62\n",
      "device : 0.49\n",
      "or : 0.56\n",
      "product. : 0.83\n",
      "lot : 0.49\n",
      "easy : 0.83\n",
      "better : 0.76\n",
      "worked : 0.69\n",
      "2 : 0.56\n",
      "also : 0.69\n",
      "reception : 0.56\n",
      "ear : 0.76\n",
      "its : 0.56\n",
      "but : 1.39\n",
      "cell : 0.56\n",
      "jabra : 0.49\n",
      "fits : 0.69\n",
      "price. : 0.62\n",
      "got : 0.62\n",
      "i'm : 0.69\n",
      "work : 0.56\n",
      "would : 1.11\n",
      "get : 0.56\n",
      "be : 0.69\n",
      "your : 0.97\n",
      "am : 0.83\n",
      "working : 0.62\n",
      "an : 0.69\n",
      "at : 0.56\n",
      "much : 0.49\n"
     ]
    }
   ],
   "source": [
    "#a list of all the positive word counts- numbers here\n",
    "values = []\n",
    "for i in words:\n",
    "    values.append(words[i])\n",
    "#iterate and find the highest used words\n",
    "for word in words:\n",
    "    if (words[word] > np.percentile(values, 92)):\n",
    "        print('{} : {}'.format(word, round(words[word] / len(words) * 100, 2)))"
   ]
  },
  {
   "cell_type": "markdown",
   "metadata": {},
   "source": [
    "## Model 1"
   ]
  },
  {
   "cell_type": "code",
   "execution_count": 97,
   "metadata": {},
   "outputs": [],
   "source": [
    "keywords = ['good', 'great', 'very', 'excellent', 'best', 'recommend', 'quality', 'love', 'easy', 'happy']\n",
    "\n",
    "#create columns based on the presence of our keywords\n",
    "for key in keywords:\n",
    "    # Note that we add spaces around the key so that we're getting the word, not the pattern\n",
    "    df[str(key)] = df.text.str.contains(str(key), case=False)"
   ]
  },
  {
   "cell_type": "code",
   "execution_count": 98,
   "metadata": {},
   "outputs": [],
   "source": [
    "#turn our 0 and 1's into true and false...DON'T RUN AGAIN!!!\n",
    "df.sentiment = (df.sentiment == 1)"
   ]
  },
  {
   "cell_type": "code",
   "execution_count": 99,
   "metadata": {
    "scrolled": true
   },
   "outputs": [
    {
     "data": {
      "image/png": "[encoded data removed]",
      "text/plain": [
       "<Figure size 432x288 with 2 Axes>"
      ]
     },
     "metadata": {
      "needs_background": "light"
     },
     "output_type": "display_data"
    }
   ],
   "source": [
    "sns.heatmap(df.corr(), linewidth=0.5)\n",
    "plt.show()"
   ]
  },
  {
   "cell_type": "code",
   "execution_count": 100,
   "metadata": {},
   "outputs": [],
   "source": [
    "data = df[keywords]\n",
    "target = df['sentiment']"
   ]
  },
  {
   "cell_type": "code",
   "execution_count": 101,
   "metadata": {
    "scrolled": true
   },
   "outputs": [],
   "source": [
    "# Our data is binary / boolean, so we're importing the Bernoulli classifier.\n",
    "from sklearn.naive_bayes import BernoulliNB\n",
    "\n",
    "# Instantiate our model and store it in a new variable.\n",
    "bnb = BernoulliNB()\n"
   ]
  },
  {
   "cell_type": "code",
   "execution_count": 102,
   "metadata": {},
   "outputs": [],
   "source": [
    "from sklearn.model_selection import train_test_split\n",
    "from sklearn.metrics import confusion_matrix\n",
    "from sklearn.model_selection import cross_val_score"
   ]
  },
  {
   "cell_type": "code",
   "execution_count": 103,
   "metadata": {},
   "outputs": [],
   "source": [
    "#a function for finding the accuracy, specificity, and sensitivity\n",
    "def evaluate_model():\n",
    "    y_pred = bnb.fit(data, target).predict(data)\n",
    "    tn, fp, fn, tp = confusion_matrix(target, y_pred).ravel()\n",
    "    print('TN:{}, FP:{} FN:{} TP:{}'.format(tn, fp, fn, tp))\n",
    "    accuracy = bnb.fit(data, target).score(data, target) * 100\n",
    "    sensitivity = tp / (tp + fn) * 100\n",
    "    specificity = tn / (tn + fp) * 100\n",
    "    print('Our model is {}% accurate.'.format(accuracy))\n",
    "    print('Our model is {}% specific'.format(specificity))\n",
    "    print('Our model is {}% sensitive'.format(sensitivity))"
   ]
  },
  {
   "cell_type": "code",
   "execution_count": 104,
   "metadata": {},
   "outputs": [],
   "source": [
    "#a function to evaluate our model\n",
    "def evaluate_overfitting():\n",
    "    print('Testing for Overfitting:') \n",
    "    X_train, X_test, y_train, y_test = train_test_split(data, target, test_size=0.2, random_state = 20)\n",
    "    print('Our train test is {}%'.format(bnb.fit(X_train, y_train).score(X_test, y_test) * 100))\n",
    "    print('Our overall test is {}%'.format(bnb.fit(data, target).score(data, target) * 100))\n",
    "    print('')\n",
    "    print('Testing with Cross Validation:')\n",
    "    print('{}'.format(cross_val_score(bnb, data, target, cv=10)))\n",
    "    print('Our average cross validation amount is {}'.format(cross_val_score(bnb, data, target, cv=10).mean()))"
   ]
  },
  {
   "cell_type": "code",
   "execution_count": 105,
   "metadata": {},
   "outputs": [
    {
     "name": "stdout",
     "output_type": "stream",
     "text": [
      "TN:429, FP:71 FN:194 TP:306\n",
      "Our model is 73.5% accurate.\n",
      "Our model is 85.8% specific\n",
      "Our model is 61.199999999999996% sensitive\n"
     ]
    }
   ],
   "source": [
    "evaluate_model()"
   ]
  },
  {
   "cell_type": "code",
   "execution_count": 106,
   "metadata": {},
   "outputs": [
    {
     "name": "stdout",
     "output_type": "stream",
     "text": [
      "Testing for Overfitting:\n",
      "Our train test is 72.0%\n",
      "Our overall test is 73.5%\n",
      "\n",
      "Testing with Cross Validation:\n",
      "[0.8  0.66 0.87 0.7  0.75 0.7  0.73 0.72 0.74 0.66]\n",
      "Our average cross validation amount is 0.733\n"
     ]
    }
   ],
   "source": [
    "evaluate_overfitting()"
   ]
  },
  {
   "cell_type": "markdown",
   "metadata": {},
   "source": [
    "So, it doesn't seem that we're succumbing to overfitting. We could do a better job at making our model more sensitive --- correctly identifying what is acutally a positive sentiment. Let's give it a go!"
   ]
  },
  {
   "cell_type": "markdown",
   "metadata": {},
   "source": [
    "## Model 2"
   ]
  },
  {
   "cell_type": "code",
   "execution_count": 107,
   "metadata": {},
   "outputs": [],
   "source": [
    "df2 = pd.read_csv('amazon_cells_labelled.txt', sep=\"\\t\", header=None)\n",
    "df2.columns = ['text', 'sentiment']"
   ]
  },
  {
   "cell_type": "code",
   "execution_count": 108,
   "metadata": {},
   "outputs": [],
   "source": [
    "#create an all caps function to help identify some positives!\n",
    "df2.text = df.text.apply(lambda x: x.replace('.', ''))\n",
    "allcaps_list = []\n",
    "\n",
    "#iterate through each sentence to see if 10% of the words are capitalized\n",
    "for i in range(len(df2)):\n",
    "    count = 0\n",
    "    sentence = df.text[i].split(' ')\n",
    "    for j in range(len(sentence)):\n",
    "        if (sentence[j].isupper() and sentence[j] != 'I'):\n",
    "            count += 1\n",
    "    allcaps_list.append(count / len(sentence) < 0.1)\n",
    "\n",
    "\n",
    "df2['allcaps'] = allcaps_list"
   ]
  },
  {
   "cell_type": "code",
   "execution_count": 109,
   "metadata": {},
   "outputs": [],
   "source": [
    "keywords = ['good', 'great', 'very', 'excellent', 'best', 'recommend', 'quality', 'love', 'easy', 'happy']\n",
    "\n",
    "#create columns based on the presence of our keywords\n",
    "for key in keywords:\n",
    "    df2[str(key)] = df2.text.str.contains(str(key), case=False)"
   ]
  },
  {
   "cell_type": "code",
   "execution_count": 110,
   "metadata": {},
   "outputs": [],
   "source": [
    "#turn our 0 and 1's into true and false...DON'T RUN AGAIN!!!\n",
    "df2.sentiment = (df2.sentiment == 1)"
   ]
  },
  {
   "cell_type": "code",
   "execution_count": 111,
   "metadata": {},
   "outputs": [
    {
     "data": {
      "image/png": "[encoded data removed]",
      "text/plain": [
       "<Figure size 432x288 with 2 Axes>"
      ]
     },
     "metadata": {
      "needs_background": "light"
     },
     "output_type": "display_data"
    }
   ],
   "source": [
    "sns.heatmap(df2.corr(), linewidth=0.5)\n",
    "plt.show()"
   ]
  },
  {
   "cell_type": "code",
   "execution_count": 112,
   "metadata": {},
   "outputs": [],
   "source": [
    "data = df2[keywords + ['allcaps']]\n",
    "target = df2['sentiment']"
   ]
  },
  {
   "cell_type": "code",
   "execution_count": 113,
   "metadata": {},
   "outputs": [
    {
     "name": "stdout",
     "output_type": "stream",
     "text": [
      "TN:433, FP:67 FN:196 TP:304\n",
      "Our model is 73.7% accurate.\n",
      "Our model is 86.6% specific\n",
      "Our model is 60.8% sensitive\n"
     ]
    }
   ],
   "source": [
    "evaluate_model()"
   ]
  },
  {
   "cell_type": "code",
   "execution_count": 114,
   "metadata": {},
   "outputs": [
    {
     "name": "stdout",
     "output_type": "stream",
     "text": [
      "Testing for Overfitting:\n",
      "Our train test is 73.0%\n",
      "Our overall test is 73.7%\n",
      "\n",
      "Testing with Cross Validation:\n",
      "[0.82 0.65 0.87 0.69 0.74 0.7  0.73 0.73 0.74 0.66]\n",
      "Our average cross validation amount is 0.733\n"
     ]
    }
   ],
   "source": [
    "evaluate_overfitting()"
   ]
  },
  {
   "cell_type": "markdown",
   "metadata": {},
   "source": [
    "Well, this model doesn't seem to succumb to overfitting. We have a trade-off between specificity and sensitivity that we weren't hoping for although a slight increase in accuracy."
   ]
  },
  {
   "cell_type": "markdown",
   "metadata": {},
   "source": [
    "## Model 3"
   ]
  },
  {
   "cell_type": "code",
   "execution_count": 115,
   "metadata": {},
   "outputs": [],
   "source": [
    "df3 = pd.read_csv('amazon_cells_labelled.txt', sep=\"\\t\", header=None)\n",
    "df3.columns = ['text', 'sentiment']"
   ]
  },
  {
   "cell_type": "code",
   "execution_count": 116,
   "metadata": {},
   "outputs": [],
   "source": [
    "keywords = ['good', 'great']\n",
    "\n",
    "#create columns based on the presence of our keywords\n",
    "for key in keywords:\n",
    "    df3[str(key)] = df.text.str.contains(str(key), case=False)"
   ]
  },
  {
   "cell_type": "code",
   "execution_count": 117,
   "metadata": {},
   "outputs": [],
   "source": [
    "#turn our 0 and 1's into true and false...DON'T RUN AGAIN!!!\n",
    "df3.sentiment = (df3.sentiment == 1)"
   ]
  },
  {
   "cell_type": "code",
   "execution_count": 118,
   "metadata": {},
   "outputs": [
    {
     "data": {
      "image/png": "[encoded data removed]",
      "text/plain": [
       "<Figure size 432x288 with 2 Axes>"
      ]
     },
     "metadata": {
      "needs_background": "light"
     },
     "output_type": "display_data"
    }
   ],
   "source": [
    "sns.heatmap(df3.corr(), linewidth=0.5)\n",
    "plt.show()"
   ]
  },
  {
   "cell_type": "code",
   "execution_count": 119,
   "metadata": {},
   "outputs": [],
   "source": [
    "data = df3[keywords]\n",
    "target=df3['sentiment']"
   ]
  },
  {
   "cell_type": "code",
   "execution_count": 120,
   "metadata": {},
   "outputs": [
    {
     "name": "stdout",
     "output_type": "stream",
     "text": [
      "TN:481, FP:19 FN:350 TP:150\n",
      "Our model is 63.1% accurate.\n",
      "Our model is 96.2% specific\n",
      "Our model is 30.0% sensitive\n"
     ]
    }
   ],
   "source": [
    "evaluate_model()"
   ]
  },
  {
   "cell_type": "code",
   "execution_count": 121,
   "metadata": {},
   "outputs": [
    {
     "name": "stdout",
     "output_type": "stream",
     "text": [
      "Testing for Overfitting:\n",
      "Our train test is 62.0%\n",
      "Our overall test is 63.1%\n",
      "\n",
      "Testing with Cross Validation:\n",
      "[0.66 0.68 0.68 0.66 0.6  0.66 0.58 0.58 0.64 0.57]\n",
      "Our average cross validation amount is 0.631\n"
     ]
    }
   ],
   "source": [
    "evaluate_overfitting()"
   ]
  },
  {
   "cell_type": "markdown",
   "metadata": {},
   "source": [
    "So, it seems that decreasing the amount of features increases our specificity but at the cost of drastic decreases in our sensitivity and accuracy. Let's build a model that increases the amount of features from our first model."
   ]
  },
  {
   "cell_type": "markdown",
   "metadata": {},
   "source": [
    "## Model 4"
   ]
  },
  {
   "cell_type": "code",
   "execution_count": 122,
   "metadata": {},
   "outputs": [
    {
     "name": "stdout",
     "output_type": "stream",
     "text": [
      "good : 3.68\n",
      "excellent : 1.39\n",
      "great : 4.31\n",
      "for : 4.51\n",
      "the : 16.46\n",
      "is : 9.65\n",
      "great. : 1.04\n",
      "you : 1.39\n",
      "are : 1.46\n",
      "have : 2.57\n",
      "and : 13.06\n",
      "sound : 1.53\n",
      "quality : 1.46\n",
      "was : 2.5\n",
      "very : 4.79\n",
      "when : 0.49\n",
      "from : 1.11\n",
      "battery : 1.39\n",
      "to : 5.9\n",
      "highly : 0.56\n",
      "recommend : 1.25\n",
      "any : 1.04\n",
      "one : 1.53\n",
      "has : 1.67\n",
      "a : 7.22\n",
      "phone. : 1.39\n",
      "so : 1.81\n",
      "works : 2.99\n",
      "i : 10.49\n",
      "bought : 0.56\n",
      "this : 6.94\n",
      "use : 0.9\n",
      "with : 4.31\n",
      "my : 5.0\n",
      "new : 0.69\n",
      "without : 0.49\n",
      "phone : 3.96\n",
      "i've : 1.32\n",
      "can : 0.76\n",
      "that : 2.08\n",
      "it's : 1.11\n",
      "best : 1.32\n",
      "product : 1.04\n",
      "like : 1.25\n",
      "car : 0.56\n",
      "as : 1.39\n",
      "well : 1.18\n",
      "of : 3.4\n",
      "it : 7.5\n",
      "up : 0.76\n",
      "well. : 0.83\n",
      "case : 0.49\n",
      "camera : 0.49\n",
      "nice : 1.32\n",
      "clear : 0.49\n",
      "quality. : 0.56\n",
      "headset : 1.67\n",
      "bluetooth : 0.69\n",
      "all : 1.18\n",
      "does : 0.49\n",
      "not : 0.97\n",
      "just : 0.83\n",
      "pretty : 0.56\n",
      "had : 1.18\n",
      "it. : 0.9\n",
      "love : 1.39\n",
      "about : 0.49\n",
      "price : 0.76\n",
      "even : 0.76\n",
      "been : 0.83\n",
      "happy : 0.9\n",
      "no : 0.83\n",
      "on : 2.99\n",
      "really : 1.04\n",
      "these : 0.83\n",
      "- : 0.97\n",
      "they : 0.62\n",
      "in : 2.36\n",
      "comfortable : 0.76\n",
      "than : 1.32\n",
      "because : 0.62\n",
      "device : 0.49\n",
      "or : 0.56\n",
      "product. : 0.83\n",
      "lot : 0.49\n",
      "easy : 0.83\n",
      "better : 0.76\n",
      "worked : 0.69\n",
      "2 : 0.56\n",
      "also : 0.69\n",
      "reception : 0.56\n",
      "ear : 0.76\n",
      "its : 0.56\n",
      "but : 1.39\n",
      "cell : 0.56\n",
      "jabra : 0.49\n",
      "fits : 0.69\n",
      "price. : 0.62\n",
      "got : 0.62\n",
      "i'm : 0.69\n",
      "work : 0.56\n",
      "would : 1.11\n",
      "get : 0.56\n",
      "be : 0.69\n",
      "your : 0.97\n",
      "am : 0.83\n",
      "working : 0.62\n",
      "an : 0.69\n",
      "at : 0.56\n",
      "much : 0.49\n"
     ]
    }
   ],
   "source": [
    "#a list of all the positive word counts- numbers here\n",
    "values = []\n",
    "for i in words:\n",
    "    values.append(words[i])\n",
    "#iterate and find the highest used words\n",
    "for word in words:\n",
    "    if (words[word] > np.percentile(values, 92)):\n",
    "        print('{} : {}'.format(word, round(words[word] / len(words) * 100, 2)))"
   ]
  },
  {
   "cell_type": "code",
   "execution_count": 123,
   "metadata": {},
   "outputs": [],
   "source": [
    "df4 = pd.read_csv('amazon_cells_labelled.txt', sep=\"\\t\", header=None)\n",
    "df4.columns = ['text', 'sentiment']"
   ]
  },
  {
   "cell_type": "code",
   "execution_count": 124,
   "metadata": {},
   "outputs": [],
   "source": [
    "keywords = ['good', 'great', 'very', 'excellent', 'best', 'recommend', 'quality', 'love', 'easy', 'happy', 'nice', 'better', ]\n",
    "\n",
    "#create columns based on the presence of our keywords\n",
    "for key in keywords:\n",
    "    # Note that we add spaces around the key so that we're getting the word, not the pattern\n",
    "    df4[str(key)] = df4.text.str.contains(str(key), case=False)"
   ]
  },
  {
   "cell_type": "code",
   "execution_count": 125,
   "metadata": {},
   "outputs": [
    {
     "data": {
      "image/png": "[encoded data removed]",
      "text/plain": [
       "<Figure size 432x288 with 2 Axes>"
      ]
     },
     "metadata": {
      "needs_background": "light"
     },
     "output_type": "display_data"
    }
   ],
   "source": [
    "sns.heatmap(df4.corr(), linewidth=0.5)\n",
    "plt.show()"
   ]
  },
  {
   "cell_type": "code",
   "execution_count": 126,
   "metadata": {},
   "outputs": [],
   "source": [
    "data = df4[keywords]\n",
    "target = df4['sentiment']"
   ]
  },
  {
   "cell_type": "code",
   "execution_count": 127,
   "metadata": {},
   "outputs": [
    {
     "name": "stdout",
     "output_type": "stream",
     "text": [
      "TN:427, FP:73 FN:185 TP:315\n",
      "Our model is 74.2% accurate.\n",
      "Our model is 85.39999999999999% specific\n",
      "Our model is 63.0% sensitive\n"
     ]
    }
   ],
   "source": [
    "evaluate_model()"
   ]
  },
  {
   "cell_type": "code",
   "execution_count": 128,
   "metadata": {},
   "outputs": [
    {
     "name": "stdout",
     "output_type": "stream",
     "text": [
      "Testing for Overfitting:\n",
      "Our train test is 72.5%\n",
      "Our overall test is 74.2%\n",
      "\n",
      "Testing with Cross Validation:\n",
      "[0.82 0.69 0.85 0.69 0.78 0.7  0.74 0.72 0.74 0.67]\n",
      "Our average cross validation amount is 0.74\n"
     ]
    }
   ],
   "source": [
    "evaluate_overfitting()"
   ]
  },
  {
   "cell_type": "markdown",
   "metadata": {},
   "source": [
    "## Model 5"
   ]
  },
  {
   "cell_type": "code",
   "execution_count": 129,
   "metadata": {},
   "outputs": [],
   "source": [
    "df5 = pd.read_csv('amazon_cells_labelled.txt', sep=\"\\t\", header=None)\n",
    "df5.columns = ['text', 'sentiment']"
   ]
  },
  {
   "cell_type": "code",
   "execution_count": 130,
   "metadata": {},
   "outputs": [],
   "source": [
    "from sklearn.feature_extraction.text import CountVectorizer\n",
    "\n",
    "vectorizer = CountVectorizer(max_features=10, stop_words='english')\n",
    "X= vectorizer.fit_transform(df5.text)\n"
   ]
  },
  {
   "cell_type": "code",
   "execution_count": 131,
   "metadata": {},
   "outputs": [],
   "source": [
    "#find the top 10 feature names\n",
    "keywords = vectorizer.get_feature_names()"
   ]
  },
  {
   "cell_type": "code",
   "execution_count": 132,
   "metadata": {},
   "outputs": [],
   "source": [
    "#build model\n",
    "for key in keywords:\n",
    "    df5[str(key)] = df5.text.str.contains(str(key), case=False)"
   ]
  },
  {
   "cell_type": "code",
   "execution_count": 133,
   "metadata": {},
   "outputs": [
    {
     "data": {
      "image/png": "[encoded data removed]",
      "text/plain": [
       "<Figure size 432x288 with 2 Axes>"
      ]
     },
     "metadata": {
      "needs_background": "light"
     },
     "output_type": "display_data"
    }
   ],
   "source": [
    "sns.heatmap(df5.corr(), linewidth=0.5)\n",
    "plt.show()"
   ]
  },
  {
   "cell_type": "code",
   "execution_count": 134,
   "metadata": {},
   "outputs": [],
   "source": [
    "keywords.remove('sound')"
   ]
  },
  {
   "cell_type": "code",
   "execution_count": 135,
   "metadata": {},
   "outputs": [],
   "source": [
    "df5.sentiment = (df5.sentiment == 1)"
   ]
  },
  {
   "cell_type": "code",
   "execution_count": 136,
   "metadata": {},
   "outputs": [],
   "source": [
    "data = df5[keywords]\n",
    "target = df5['sentiment']"
   ]
  },
  {
   "cell_type": "code",
   "execution_count": 137,
   "metadata": {},
   "outputs": [
    {
     "name": "stdout",
     "output_type": "stream",
     "text": [
      "TN:448, FP:52 FN:294 TP:206\n",
      "Our model is 65.4% accurate.\n",
      "Our model is 89.60000000000001% specific\n",
      "Our model is 41.199999999999996% sensitive\n"
     ]
    }
   ],
   "source": [
    "evaluate_model()"
   ]
  },
  {
   "cell_type": "code",
   "execution_count": 138,
   "metadata": {
    "scrolled": true
   },
   "outputs": [
    {
     "name": "stdout",
     "output_type": "stream",
     "text": [
      "Testing for Overfitting:\n",
      "Our train test is 64.5%\n",
      "Our overall test is 65.4%\n",
      "\n",
      "Testing with Cross Validation:\n",
      "[0.67 0.69 0.67 0.68 0.62 0.61 0.62 0.63 0.61 0.6 ]\n",
      "Our average cross validation amount is 0.6399999999999999\n"
     ]
    }
   ],
   "source": [
    "evaluate_overfitting()"
   ]
  },
  {
   "cell_type": "markdown",
   "metadata": {},
   "source": [
    "## Summary"
   ]
  },
  {
   "cell_type": "markdown",
   "metadata": {},
   "source": [
    "Well, it seems that increasing the number of features is our best bet by pulling from our commonly used words dictionary. Note, that we still want to use words that make sense for identifying positive sentiment, such as 'good' and 'great' instead of just the most commonly used words.\n",
    "\n",
    "Our 4th model is the most accurate. It has the most number of features which helps increase our sensitivity which raises overall accuracy. This does decrease overall specificity, but not by as much of a margin as sensitivity.\n",
    "\n",
    "It's worth noting that, for model 5, we could have looped through our max_features until we found the best model for number of features."
   ]
  }
 ],
 "metadata": {
  "kernelspec": {
   "display_name": "Python 3",
   "language": "python",
   "name": "python3"
  },
  "language_info": {
   "codemirror_mode": {
    "name": "ipython",
    "version": 3
   },
   "file_extension": ".py",
   "mimetype": "text/x-python",
   "name": "python",
   "nbconvert_exporter": "python",
   "pygments_lexer": "ipython3",
   "version": "3.7.3"
  }
 },
 "nbformat": 4,
 "nbformat_minor": 2
}
